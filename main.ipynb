{
 "cells": [
  {
   "cell_type": "markdown",
   "id": "85278044-6cb9-4d23-b845-76c6d84065e7",
   "metadata": {},
   "source": [
    "### 1. Run Terminal Commands in Jupyter"
   ]
  },
  {
   "cell_type": "code",
   "execution_count": 3,
   "id": "be83207b-e8a7-40ab-a556-550aca52e774",
   "metadata": {},
   "outputs": [
    {
     "name": "stdout",
     "output_type": "stream",
     "text": [
      "Requirement already satisfied: seaborn in c:\\users\\soyab\\appdata\\local\\programs\\python\\python311\\lib\\site-packages (0.13.1)\n",
      "Requirement already satisfied: numpy!=1.24.0,>=1.20 in c:\\users\\soyab\\appdata\\local\\programs\\python\\python311\\lib\\site-packages (from seaborn) (1.24.3)\n",
      "Requirement already satisfied: pandas>=1.2 in c:\\users\\soyab\\appdata\\local\\programs\\python\\python311\\lib\\site-packages (from seaborn) (2.0.2)\n",
      "Requirement already satisfied: matplotlib!=3.6.1,>=3.4 in c:\\users\\soyab\\appdata\\local\\programs\\python\\python311\\lib\\site-packages (from seaborn) (3.8.0)\n",
      "Requirement already satisfied: contourpy>=1.0.1 in c:\\users\\soyab\\appdata\\local\\programs\\python\\python311\\lib\\site-packages (from matplotlib!=3.6.1,>=3.4->seaborn) (1.1.1)\n",
      "Requirement already satisfied: cycler>=0.10 in c:\\users\\soyab\\appdata\\local\\programs\\python\\python311\\lib\\site-packages (from matplotlib!=3.6.1,>=3.4->seaborn) (0.12.1)\n",
      "Requirement already satisfied: fonttools>=4.22.0 in c:\\users\\soyab\\appdata\\local\\programs\\python\\python311\\lib\\site-packages (from matplotlib!=3.6.1,>=3.4->seaborn) (4.43.1)\n",
      "Requirement already satisfied: kiwisolver>=1.0.1 in c:\\users\\soyab\\appdata\\local\\programs\\python\\python311\\lib\\site-packages (from matplotlib!=3.6.1,>=3.4->seaborn) (1.4.5)\n",
      "Requirement already satisfied: packaging>=20.0 in c:\\users\\soyab\\appdata\\local\\programs\\python\\python311\\lib\\site-packages (from matplotlib!=3.6.1,>=3.4->seaborn) (23.2)\n",
      "Requirement already satisfied: pillow>=6.2.0 in c:\\users\\soyab\\appdata\\local\\programs\\python\\python311\\lib\\site-packages (from matplotlib!=3.6.1,>=3.4->seaborn) (10.0.1)\n",
      "Requirement already satisfied: pyparsing>=2.3.1 in c:\\users\\soyab\\appdata\\local\\programs\\python\\python311\\lib\\site-packages (from matplotlib!=3.6.1,>=3.4->seaborn) (3.1.1)\n",
      "Requirement already satisfied: python-dateutil>=2.7 in c:\\users\\soyab\\appdata\\local\\programs\\python\\python311\\lib\\site-packages (from matplotlib!=3.6.1,>=3.4->seaborn) (2.8.2)\n",
      "Requirement already satisfied: pytz>=2020.1 in c:\\users\\soyab\\appdata\\local\\programs\\python\\python311\\lib\\site-packages (from pandas>=1.2->seaborn) (2023.3)\n",
      "Requirement already satisfied: tzdata>=2022.1 in c:\\users\\soyab\\appdata\\local\\programs\\python\\python311\\lib\\site-packages (from pandas>=1.2->seaborn) (2023.3)\n",
      "Requirement already satisfied: six>=1.5 in c:\\users\\soyab\\appdata\\local\\programs\\python\\python311\\lib\\site-packages (from python-dateutil>=2.7->matplotlib!=3.6.1,>=3.4->seaborn) (1.16.0)\n"
     ]
    },
    {
     "name": "stderr",
     "output_type": "stream",
     "text": [
      "\n",
      "[notice] A new release of pip is available: 23.3 -> 23.3.2\n",
      "[notice] To update, run: python.exe -m pip install --upgrade pip\n"
     ]
    }
   ],
   "source": [
    "# Use an '!' or '%' before the command \n",
    "\n",
    "!pip install seaborn"
   ]
  },
  {
   "cell_type": "markdown",
   "id": "1efcef16-0568-4470-993f-7eb84f0ee10b",
   "metadata": {},
   "source": [
    "### 2. Shortcuts"
   ]
  },
  {
   "cell_type": "markdown",
   "id": "e59edb36-3680-4564-9119-f47ebd9ee150",
   "metadata": {},
   "source": [
    "esc + a --> add cell above </br>\n",
    "esc + b --> add cell below </br>\n",
    "esc + dd --> delete cell </br>\n",
    "esc + m --> switch to markdown </br>\n",
    "esc + y --> switch to code </br>\n",
    "ctrl + enter --> run cell and stay on cell </br>\n",
    "shift + enter --> run cell and go to next"
   ]
  },
  {
   "cell_type": "markdown",
   "id": "dce0f045-bc62-4284-81ed-35752d70ba7c",
   "metadata": {},
   "source": [
    "### 3. Setting up alerts when cells are finished"
   ]
  },
  {
   "cell_type": "code",
   "execution_count": 5,
   "id": "f03e9bcc-9003-443c-9251-9dfc410e75a3",
   "metadata": {},
   "outputs": [
    {
     "name": "stdout",
     "output_type": "stream",
     "text": [
      "Collecting jupyternotify\n",
      "  Downloading jupyternotify-0.1.15.tar.gz (7.2 kB)\n",
      "  Installing build dependencies: started\n",
      "  Installing build dependencies: finished with status 'done'\n",
      "  Getting requirements to build wheel: started\n",
      "  Getting requirements to build wheel: finished with status 'done'\n",
      "  Preparing metadata (pyproject.toml): started\n",
      "  Preparing metadata (pyproject.toml): finished with status 'done'\n",
      "Requirement already satisfied: ipython in c:\\users\\soyab\\appdata\\local\\programs\\python\\python311\\lib\\site-packages (from jupyternotify) (8.16.1)\n",
      "Collecting jupyter (from jupyternotify)\n",
      "  Downloading jupyter-1.0.0-py2.py3-none-any.whl (2.7 kB)\n",
      "Requirement already satisfied: backcall in c:\\users\\soyab\\appdata\\local\\programs\\python\\python311\\lib\\site-packages (from ipython->jupyternotify) (0.2.0)\n",
      "Requirement already satisfied: decorator in c:\\users\\soyab\\appdata\\local\\programs\\python\\python311\\lib\\site-packages (from ipython->jupyternotify) (5.1.1)\n",
      "Requirement already satisfied: jedi>=0.16 in c:\\users\\soyab\\appdata\\local\\programs\\python\\python311\\lib\\site-packages (from ipython->jupyternotify) (0.19.1)\n",
      "Requirement already satisfied: matplotlib-inline in c:\\users\\soyab\\appdata\\local\\programs\\python\\python311\\lib\\site-packages (from ipython->jupyternotify) (0.1.6)\n",
      "Requirement already satisfied: pickleshare in c:\\users\\soyab\\appdata\\local\\programs\\python\\python311\\lib\\site-packages (from ipython->jupyternotify) (0.7.5)\n",
      "Requirement already satisfied: prompt-toolkit!=3.0.37,<3.1.0,>=3.0.30 in c:\\users\\soyab\\appdata\\local\\programs\\python\\python311\\lib\\site-packages (from ipython->jupyternotify) (3.0.39)\n",
      "Requirement already satisfied: pygments>=2.4.0 in c:\\users\\soyab\\appdata\\local\\programs\\python\\python311\\lib\\site-packages (from ipython->jupyternotify) (2.16.1)\n",
      "Requirement already satisfied: stack-data in c:\\users\\soyab\\appdata\\local\\programs\\python\\python311\\lib\\site-packages (from ipython->jupyternotify) (0.6.3)\n",
      "Requirement already satisfied: traitlets>=5 in c:\\users\\soyab\\appdata\\local\\programs\\python\\python311\\lib\\site-packages (from ipython->jupyternotify) (5.11.2)\n",
      "Requirement already satisfied: colorama in c:\\users\\soyab\\appdata\\local\\programs\\python\\python311\\lib\\site-packages (from ipython->jupyternotify) (0.4.6)\n",
      "Requirement already satisfied: notebook in c:\\users\\soyab\\appdata\\local\\programs\\python\\python311\\lib\\site-packages (from jupyter->jupyternotify) (7.0.5)\n",
      "Collecting qtconsole (from jupyter->jupyternotify)\n",
      "  Downloading qtconsole-5.5.1-py3-none-any.whl.metadata (5.1 kB)\n",
      "Collecting jupyter-console (from jupyter->jupyternotify)\n",
      "  Downloading jupyter_console-6.6.3-py3-none-any.whl (24 kB)\n",
      "Requirement already satisfied: nbconvert in c:\\users\\soyab\\appdata\\local\\programs\\python\\python311\\lib\\site-packages (from jupyter->jupyternotify) (7.9.2)\n",
      "Requirement already satisfied: ipykernel in c:\\users\\soyab\\appdata\\local\\programs\\python\\python311\\lib\\site-packages (from jupyter->jupyternotify) (6.25.2)\n",
      "Collecting ipywidgets (from jupyter->jupyternotify)\n",
      "  Downloading ipywidgets-8.1.1-py3-none-any.whl.metadata (2.4 kB)\n",
      "Requirement already satisfied: parso<0.9.0,>=0.8.3 in c:\\users\\soyab\\appdata\\local\\programs\\python\\python311\\lib\\site-packages (from jedi>=0.16->ipython->jupyternotify) (0.8.3)\n",
      "Requirement already satisfied: wcwidth in c:\\users\\soyab\\appdata\\local\\programs\\python\\python311\\lib\\site-packages (from prompt-toolkit!=3.0.37,<3.1.0,>=3.0.30->ipython->jupyternotify) (0.2.8)\n",
      "Requirement already satisfied: comm>=0.1.1 in c:\\users\\soyab\\appdata\\local\\programs\\python\\python311\\lib\\site-packages (from ipykernel->jupyter->jupyternotify) (0.1.4)\n",
      "Requirement already satisfied: debugpy>=1.6.5 in c:\\users\\soyab\\appdata\\local\\programs\\python\\python311\\lib\\site-packages (from ipykernel->jupyter->jupyternotify) (1.8.0)\n",
      "Requirement already satisfied: jupyter-client>=6.1.12 in c:\\users\\soyab\\appdata\\local\\programs\\python\\python311\\lib\\site-packages (from ipykernel->jupyter->jupyternotify) (8.4.0)\n",
      "Requirement already satisfied: jupyter-core!=5.0.*,>=4.12 in c:\\users\\soyab\\appdata\\local\\programs\\python\\python311\\lib\\site-packages (from ipykernel->jupyter->jupyternotify) (5.4.0)\n",
      "Requirement already satisfied: nest-asyncio in c:\\users\\soyab\\appdata\\local\\programs\\python\\python311\\lib\\site-packages (from ipykernel->jupyter->jupyternotify) (1.5.8)\n",
      "Requirement already satisfied: packaging in c:\\users\\soyab\\appdata\\local\\programs\\python\\python311\\lib\\site-packages (from ipykernel->jupyter->jupyternotify) (23.2)\n",
      "Requirement already satisfied: psutil in c:\\users\\soyab\\appdata\\local\\programs\\python\\python311\\lib\\site-packages (from ipykernel->jupyter->jupyternotify) (5.9.5)\n",
      "Requirement already satisfied: pyzmq>=20 in c:\\users\\soyab\\appdata\\local\\programs\\python\\python311\\lib\\site-packages (from ipykernel->jupyter->jupyternotify) (25.1.1)\n",
      "Requirement already satisfied: tornado>=6.1 in c:\\users\\soyab\\appdata\\local\\programs\\python\\python311\\lib\\site-packages (from ipykernel->jupyter->jupyternotify) (6.3.3)\n",
      "Collecting widgetsnbextension~=4.0.9 (from ipywidgets->jupyter->jupyternotify)\n",
      "  Downloading widgetsnbextension-4.0.9-py3-none-any.whl.metadata (1.6 kB)\n",
      "Collecting jupyterlab-widgets~=3.0.9 (from ipywidgets->jupyter->jupyternotify)\n",
      "  Downloading jupyterlab_widgets-3.0.9-py3-none-any.whl.metadata (4.1 kB)\n",
      "Requirement already satisfied: beautifulsoup4 in c:\\users\\soyab\\appdata\\local\\programs\\python\\python311\\lib\\site-packages (from nbconvert->jupyter->jupyternotify) (4.12.2)\n",
      "Requirement already satisfied: bleach!=5.0.0 in c:\\users\\soyab\\appdata\\local\\programs\\python\\python311\\lib\\site-packages (from nbconvert->jupyter->jupyternotify) (6.1.0)\n",
      "Requirement already satisfied: defusedxml in c:\\users\\soyab\\appdata\\local\\programs\\python\\python311\\lib\\site-packages (from nbconvert->jupyter->jupyternotify) (0.7.1)\n",
      "Requirement already satisfied: jinja2>=3.0 in c:\\users\\soyab\\appdata\\local\\programs\\python\\python311\\lib\\site-packages (from nbconvert->jupyter->jupyternotify) (3.1.2)\n",
      "Requirement already satisfied: jupyterlab-pygments in c:\\users\\soyab\\appdata\\local\\programs\\python\\python311\\lib\\site-packages (from nbconvert->jupyter->jupyternotify) (0.2.2)\n",
      "Requirement already satisfied: markupsafe>=2.0 in c:\\users\\soyab\\appdata\\local\\programs\\python\\python311\\lib\\site-packages (from nbconvert->jupyter->jupyternotify) (2.1.3)\n",
      "Requirement already satisfied: mistune<4,>=2.0.3 in c:\\users\\soyab\\appdata\\local\\programs\\python\\python311\\lib\\site-packages (from nbconvert->jupyter->jupyternotify) (3.0.2)\n",
      "Requirement already satisfied: nbclient>=0.5.0 in c:\\users\\soyab\\appdata\\local\\programs\\python\\python311\\lib\\site-packages (from nbconvert->jupyter->jupyternotify) (0.8.0)\n",
      "Requirement already satisfied: nbformat>=5.7 in c:\\users\\soyab\\appdata\\local\\programs\\python\\python311\\lib\\site-packages (from nbconvert->jupyter->jupyternotify) (5.9.2)\n",
      "Requirement already satisfied: pandocfilters>=1.4.1 in c:\\users\\soyab\\appdata\\local\\programs\\python\\python311\\lib\\site-packages (from nbconvert->jupyter->jupyternotify) (1.5.0)\n",
      "Requirement already satisfied: tinycss2 in c:\\users\\soyab\\appdata\\local\\programs\\python\\python311\\lib\\site-packages (from nbconvert->jupyter->jupyternotify) (1.2.1)\n",
      "Requirement already satisfied: jupyter-server<3,>=2.4.0 in c:\\users\\soyab\\appdata\\local\\programs\\python\\python311\\lib\\site-packages (from notebook->jupyter->jupyternotify) (2.7.3)\n",
      "Requirement already satisfied: jupyterlab-server<3,>=2.22.1 in c:\\users\\soyab\\appdata\\local\\programs\\python\\python311\\lib\\site-packages (from notebook->jupyter->jupyternotify) (2.25.0)\n",
      "Requirement already satisfied: jupyterlab<5,>=4.0.2 in c:\\users\\soyab\\appdata\\local\\programs\\python\\python311\\lib\\site-packages (from notebook->jupyter->jupyternotify) (4.0.7)\n",
      "Requirement already satisfied: notebook-shim<0.3,>=0.2 in c:\\users\\soyab\\appdata\\local\\programs\\python\\python311\\lib\\site-packages (from notebook->jupyter->jupyternotify) (0.2.3)\n",
      "Collecting qtpy>=2.4.0 (from qtconsole->jupyter->jupyternotify)\n",
      "  Downloading QtPy-2.4.1-py3-none-any.whl.metadata (12 kB)\n",
      "Requirement already satisfied: executing>=1.2.0 in c:\\users\\soyab\\appdata\\local\\programs\\python\\python311\\lib\\site-packages (from stack-data->ipython->jupyternotify) (2.0.0)\n",
      "Requirement already satisfied: asttokens>=2.1.0 in c:\\users\\soyab\\appdata\\local\\programs\\python\\python311\\lib\\site-packages (from stack-data->ipython->jupyternotify) (2.4.0)\n",
      "Requirement already satisfied: pure-eval in c:\\users\\soyab\\appdata\\local\\programs\\python\\python311\\lib\\site-packages (from stack-data->ipython->jupyternotify) (0.2.2)\n",
      "Requirement already satisfied: six>=1.12.0 in c:\\users\\soyab\\appdata\\local\\programs\\python\\python311\\lib\\site-packages (from asttokens>=2.1.0->stack-data->ipython->jupyternotify) (1.16.0)\n",
      "Requirement already satisfied: webencodings in c:\\users\\soyab\\appdata\\local\\programs\\python\\python311\\lib\\site-packages (from bleach!=5.0.0->nbconvert->jupyter->jupyternotify) (0.5.1)\n",
      "Requirement already satisfied: python-dateutil>=2.8.2 in c:\\users\\soyab\\appdata\\local\\programs\\python\\python311\\lib\\site-packages (from jupyter-client>=6.1.12->ipykernel->jupyter->jupyternotify) (2.8.2)\n",
      "Requirement already satisfied: platformdirs>=2.5 in c:\\users\\soyab\\appdata\\local\\programs\\python\\python311\\lib\\site-packages (from jupyter-core!=5.0.*,>=4.12->ipykernel->jupyter->jupyternotify) (3.11.0)\n",
      "Requirement already satisfied: pywin32>=300 in c:\\users\\soyab\\appdata\\local\\programs\\python\\python311\\lib\\site-packages (from jupyter-core!=5.0.*,>=4.12->ipykernel->jupyter->jupyternotify) (306)\n",
      "Requirement already satisfied: anyio>=3.1.0 in c:\\users\\soyab\\appdata\\local\\programs\\python\\python311\\lib\\site-packages (from jupyter-server<3,>=2.4.0->notebook->jupyter->jupyternotify) (4.0.0)\n",
      "Requirement already satisfied: argon2-cffi in c:\\users\\soyab\\appdata\\local\\programs\\python\\python311\\lib\\site-packages (from jupyter-server<3,>=2.4.0->notebook->jupyter->jupyternotify) (23.1.0)\n",
      "Requirement already satisfied: jupyter-events>=0.6.0 in c:\\users\\soyab\\appdata\\local\\programs\\python\\python311\\lib\\site-packages (from jupyter-server<3,>=2.4.0->notebook->jupyter->jupyternotify) (0.7.0)\n",
      "Requirement already satisfied: jupyter-server-terminals in c:\\users\\soyab\\appdata\\local\\programs\\python\\python311\\lib\\site-packages (from jupyter-server<3,>=2.4.0->notebook->jupyter->jupyternotify) (0.4.4)\n",
      "Requirement already satisfied: overrides in c:\\users\\soyab\\appdata\\local\\programs\\python\\python311\\lib\\site-packages (from jupyter-server<3,>=2.4.0->notebook->jupyter->jupyternotify) (7.4.0)\n",
      "Requirement already satisfied: prometheus-client in c:\\users\\soyab\\appdata\\local\\programs\\python\\python311\\lib\\site-packages (from jupyter-server<3,>=2.4.0->notebook->jupyter->jupyternotify) (0.17.1)\n",
      "Requirement already satisfied: pywinpty in c:\\users\\soyab\\appdata\\local\\programs\\python\\python311\\lib\\site-packages (from jupyter-server<3,>=2.4.0->notebook->jupyter->jupyternotify) (2.0.12)\n",
      "Requirement already satisfied: send2trash>=1.8.2 in c:\\users\\soyab\\appdata\\local\\programs\\python\\python311\\lib\\site-packages (from jupyter-server<3,>=2.4.0->notebook->jupyter->jupyternotify) (1.8.2)\n",
      "Requirement already satisfied: terminado>=0.8.3 in c:\\users\\soyab\\appdata\\local\\programs\\python\\python311\\lib\\site-packages (from jupyter-server<3,>=2.4.0->notebook->jupyter->jupyternotify) (0.17.1)\n",
      "Requirement already satisfied: websocket-client in c:\\users\\soyab\\appdata\\local\\programs\\python\\python311\\lib\\site-packages (from jupyter-server<3,>=2.4.0->notebook->jupyter->jupyternotify) (1.6.4)\n",
      "Requirement already satisfied: async-lru>=1.0.0 in c:\\users\\soyab\\appdata\\local\\programs\\python\\python311\\lib\\site-packages (from jupyterlab<5,>=4.0.2->notebook->jupyter->jupyternotify) (2.0.4)\n",
      "Requirement already satisfied: jupyter-lsp>=2.0.0 in c:\\users\\soyab\\appdata\\local\\programs\\python\\python311\\lib\\site-packages (from jupyterlab<5,>=4.0.2->notebook->jupyter->jupyternotify) (2.2.0)\n",
      "Requirement already satisfied: babel>=2.10 in c:\\users\\soyab\\appdata\\local\\programs\\python\\python311\\lib\\site-packages (from jupyterlab-server<3,>=2.22.1->notebook->jupyter->jupyternotify) (2.13.0)\n",
      "Requirement already satisfied: json5>=0.9.0 in c:\\users\\soyab\\appdata\\local\\programs\\python\\python311\\lib\\site-packages (from jupyterlab-server<3,>=2.22.1->notebook->jupyter->jupyternotify) (0.9.14)\n",
      "Requirement already satisfied: jsonschema>=4.18.0 in c:\\users\\soyab\\appdata\\local\\programs\\python\\python311\\lib\\site-packages (from jupyterlab-server<3,>=2.22.1->notebook->jupyter->jupyternotify) (4.19.1)\n",
      "Requirement already satisfied: requests>=2.31 in c:\\users\\soyab\\appdata\\local\\programs\\python\\python311\\lib\\site-packages (from jupyterlab-server<3,>=2.22.1->notebook->jupyter->jupyternotify) (2.31.0)\n",
      "Requirement already satisfied: fastjsonschema in c:\\users\\soyab\\appdata\\local\\programs\\python\\python311\\lib\\site-packages (from nbformat>=5.7->nbconvert->jupyter->jupyternotify) (2.18.1)\n",
      "Requirement already satisfied: soupsieve>1.2 in c:\\users\\soyab\\appdata\\local\\programs\\python\\python311\\lib\\site-packages (from beautifulsoup4->nbconvert->jupyter->jupyternotify) (2.4.1)\n",
      "Requirement already satisfied: idna>=2.8 in c:\\users\\soyab\\appdata\\local\\programs\\python\\python311\\lib\\site-packages (from anyio>=3.1.0->jupyter-server<3,>=2.4.0->notebook->jupyter->jupyternotify) (3.4)\n",
      "Requirement already satisfied: sniffio>=1.1 in c:\\users\\soyab\\appdata\\local\\programs\\python\\python311\\lib\\site-packages (from anyio>=3.1.0->jupyter-server<3,>=2.4.0->notebook->jupyter->jupyternotify) (1.3.0)\n",
      "Requirement already satisfied: attrs>=22.2.0 in c:\\users\\soyab\\appdata\\local\\programs\\python\\python311\\lib\\site-packages (from jsonschema>=4.18.0->jupyterlab-server<3,>=2.22.1->notebook->jupyter->jupyternotify) (23.1.0)\n",
      "Requirement already satisfied: jsonschema-specifications>=2023.03.6 in c:\\users\\soyab\\appdata\\local\\programs\\python\\python311\\lib\\site-packages (from jsonschema>=4.18.0->jupyterlab-server<3,>=2.22.1->notebook->jupyter->jupyternotify) (2023.7.1)\n",
      "Requirement already satisfied: referencing>=0.28.4 in c:\\users\\soyab\\appdata\\local\\programs\\python\\python311\\lib\\site-packages (from jsonschema>=4.18.0->jupyterlab-server<3,>=2.22.1->notebook->jupyter->jupyternotify) (0.30.2)\n",
      "Requirement already satisfied: rpds-py>=0.7.1 in c:\\users\\soyab\\appdata\\local\\programs\\python\\python311\\lib\\site-packages (from jsonschema>=4.18.0->jupyterlab-server<3,>=2.22.1->notebook->jupyter->jupyternotify) (0.10.6)\n",
      "Requirement already satisfied: python-json-logger>=2.0.4 in c:\\users\\soyab\\appdata\\local\\programs\\python\\python311\\lib\\site-packages (from jupyter-events>=0.6.0->jupyter-server<3,>=2.4.0->notebook->jupyter->jupyternotify) (2.0.7)\n",
      "Requirement already satisfied: pyyaml>=5.3 in c:\\users\\soyab\\appdata\\local\\programs\\python\\python311\\lib\\site-packages (from jupyter-events>=0.6.0->jupyter-server<3,>=2.4.0->notebook->jupyter->jupyternotify) (6.0.1)\n",
      "Requirement already satisfied: rfc3339-validator in c:\\users\\soyab\\appdata\\local\\programs\\python\\python311\\lib\\site-packages (from jupyter-events>=0.6.0->jupyter-server<3,>=2.4.0->notebook->jupyter->jupyternotify) (0.1.4)\n",
      "Requirement already satisfied: rfc3986-validator>=0.1.1 in c:\\users\\soyab\\appdata\\local\\programs\\python\\python311\\lib\\site-packages (from jupyter-events>=0.6.0->jupyter-server<3,>=2.4.0->notebook->jupyter->jupyternotify) (0.1.1)\n",
      "Requirement already satisfied: charset-normalizer<4,>=2 in c:\\users\\soyab\\appdata\\local\\programs\\python\\python311\\lib\\site-packages (from requests>=2.31->jupyterlab-server<3,>=2.22.1->notebook->jupyter->jupyternotify) (3.1.0)\n",
      "Requirement already satisfied: urllib3<3,>=1.21.1 in c:\\users\\soyab\\appdata\\local\\programs\\python\\python311\\lib\\site-packages (from requests>=2.31->jupyterlab-server<3,>=2.22.1->notebook->jupyter->jupyternotify) (2.0.3)\n",
      "Requirement already satisfied: certifi>=2017.4.17 in c:\\users\\soyab\\appdata\\local\\programs\\python\\python311\\lib\\site-packages (from requests>=2.31->jupyterlab-server<3,>=2.22.1->notebook->jupyter->jupyternotify) (2023.5.7)\n",
      "Requirement already satisfied: argon2-cffi-bindings in c:\\users\\soyab\\appdata\\local\\programs\\python\\python311\\lib\\site-packages (from argon2-cffi->jupyter-server<3,>=2.4.0->notebook->jupyter->jupyternotify) (21.2.0)\n",
      "Requirement already satisfied: fqdn in c:\\users\\soyab\\appdata\\local\\programs\\python\\python311\\lib\\site-packages (from jsonschema[format-nongpl]>=4.18.0->jupyter-events>=0.6.0->jupyter-server<3,>=2.4.0->notebook->jupyter->jupyternotify) (1.5.1)\n",
      "Requirement already satisfied: isoduration in c:\\users\\soyab\\appdata\\local\\programs\\python\\python311\\lib\\site-packages (from jsonschema[format-nongpl]>=4.18.0->jupyter-events>=0.6.0->jupyter-server<3,>=2.4.0->notebook->jupyter->jupyternotify) (20.11.0)\n",
      "Requirement already satisfied: jsonpointer>1.13 in c:\\users\\soyab\\appdata\\local\\programs\\python\\python311\\lib\\site-packages (from jsonschema[format-nongpl]>=4.18.0->jupyter-events>=0.6.0->jupyter-server<3,>=2.4.0->notebook->jupyter->jupyternotify) (2.4)\n",
      "Requirement already satisfied: uri-template in c:\\users\\soyab\\appdata\\local\\programs\\python\\python311\\lib\\site-packages (from jsonschema[format-nongpl]>=4.18.0->jupyter-events>=0.6.0->jupyter-server<3,>=2.4.0->notebook->jupyter->jupyternotify) (1.3.0)\n",
      "Requirement already satisfied: webcolors>=1.11 in c:\\users\\soyab\\appdata\\local\\programs\\python\\python311\\lib\\site-packages (from jsonschema[format-nongpl]>=4.18.0->jupyter-events>=0.6.0->jupyter-server<3,>=2.4.0->notebook->jupyter->jupyternotify) (1.13)\n",
      "Requirement already satisfied: cffi>=1.0.1 in c:\\users\\soyab\\appdata\\local\\programs\\python\\python311\\lib\\site-packages (from argon2-cffi-bindings->argon2-cffi->jupyter-server<3,>=2.4.0->notebook->jupyter->jupyternotify) (1.15.1)\n",
      "Requirement already satisfied: pycparser in c:\\users\\soyab\\appdata\\local\\programs\\python\\python311\\lib\\site-packages (from cffi>=1.0.1->argon2-cffi-bindings->argon2-cffi->jupyter-server<3,>=2.4.0->notebook->jupyter->jupyternotify) (2.21)\n",
      "Requirement already satisfied: arrow>=0.15.0 in c:\\users\\soyab\\appdata\\local\\programs\\python\\python311\\lib\\site-packages (from isoduration->jsonschema[format-nongpl]>=4.18.0->jupyter-events>=0.6.0->jupyter-server<3,>=2.4.0->notebook->jupyter->jupyternotify) (1.3.0)\n",
      "Requirement already satisfied: types-python-dateutil>=2.8.10 in c:\\users\\soyab\\appdata\\local\\programs\\python\\python311\\lib\\site-packages (from arrow>=0.15.0->isoduration->jsonschema[format-nongpl]>=4.18.0->jupyter-events>=0.6.0->jupyter-server<3,>=2.4.0->notebook->jupyter->jupyternotify) (2.8.19.14)\n",
      "Downloading ipywidgets-8.1.1-py3-none-any.whl (139 kB)\n",
      "   ---------------------------------------- 0.0/139.4 kB ? eta -:--:--\n",
      "   ---------------------------------------- 139.4/139.4 kB 2.8 MB/s eta 0:00:00\n",
      "Downloading qtconsole-5.5.1-py3-none-any.whl (123 kB)\n",
      "   ---------------------------------------- 0.0/123.4 kB ? eta -:--:--\n",
      "   ---------------------------------------- 123.4/123.4 kB ? eta 0:00:00\n",
      "Downloading jupyterlab_widgets-3.0.9-py3-none-any.whl (214 kB)\n",
      "   ---------------------------------------- 0.0/214.9 kB ? eta -:--:--\n",
      "   --------------------------------------- 214.9/214.9 kB 12.8 MB/s eta 0:00:00\n",
      "Downloading QtPy-2.4.1-py3-none-any.whl (93 kB)\n",
      "   ---------------------------------------- 0.0/93.5 kB ? eta -:--:--\n",
      "   ---------------------------------------- 93.5/93.5 kB 1.8 MB/s eta 0:00:00\n",
      "Downloading widgetsnbextension-4.0.9-py3-none-any.whl (2.3 MB)\n",
      "   ---------------------------------------- 0.0/2.3 MB ? eta -:--:--\n",
      "   --------- ------------------------------ 0.5/2.3 MB 16.5 MB/s eta 0:00:01\n",
      "   ------------------- -------------------- 1.1/2.3 MB 14.6 MB/s eta 0:00:01\n",
      "   --------------------------------- ------ 1.9/2.3 MB 17.6 MB/s eta 0:00:01\n",
      "   ---------------------------------------- 2.3/2.3 MB 13.3 MB/s eta 0:00:00\n",
      "Building wheels for collected packages: jupyternotify\n",
      "  Building wheel for jupyternotify (pyproject.toml): started\n",
      "  Building wheel for jupyternotify (pyproject.toml): finished with status 'done'\n",
      "  Created wheel for jupyternotify: filename=jupyternotify-0.1.15-py3-none-any.whl size=8771 sha256=ca430689228b587ad9dcc61e1546c99328244a3a215ef8905b47aa79f7320614\n",
      "  Stored in directory: c:\\users\\soyab\\appdata\\local\\pip\\cache\\wheels\\ed\\19\\e2\\59939d0f3bcf11547b07e9af34df315f836561f0c2f59acc6c\n",
      "Successfully built jupyternotify\n",
      "Installing collected packages: widgetsnbextension, qtpy, jupyterlab-widgets, ipywidgets, qtconsole, jupyter-console, jupyter, jupyternotify\n",
      "Successfully installed ipywidgets-8.1.1 jupyter-1.0.0 jupyter-console-6.6.3 jupyterlab-widgets-3.0.9 jupyternotify-0.1.15 qtconsole-5.5.1 qtpy-2.4.1 widgetsnbextension-4.0.9\n"
     ]
    },
    {
     "name": "stderr",
     "output_type": "stream",
     "text": [
      "\n",
      "[notice] A new release of pip is available: 23.3 -> 23.3.2\n",
      "[notice] To update, run: python.exe -m pip install --upgrade pip\n"
     ]
    }
   ],
   "source": [
    "!pip install jupyternotify"
   ]
  },
  {
   "cell_type": "code",
   "execution_count": 12,
   "id": "cd5bf8a5-cc4e-4681-85f0-38d7ff07c18c",
   "metadata": {},
   "outputs": [
    {
     "name": "stdout",
     "output_type": "stream",
     "text": [
      "The jupyternotify extension is already loaded. To reload it, use:\n",
      "  %reload_ext jupyternotify\n"
     ]
    }
   ],
   "source": [
    "%load_ext jupyternotify"
   ]
  },
  {
   "cell_type": "code",
   "execution_count": 14,
   "id": "2caa64b1-6fac-444c-9bfe-50dfcfaa2090",
   "metadata": {},
   "outputs": [
    {
     "name": "stdout",
     "output_type": "stream",
     "text": [
      "Program over\n"
     ]
    },
    {
     "data": {
      "application/javascript": [
       "$(document).ready(\n",
       "    function() {\n",
       "        function appendUniqueDiv(){\n",
       "            // append a div with our uuid so we can check that it's already\n",
       "            // been sent and avoid duplicates on page reload\n",
       "            var notifiedDiv = document.createElement(\"div\")\n",
       "            notifiedDiv.id = \"0e95777e-f859-4baf-85dd-456f5627cfb3\"\n",
       "            element.append(notifiedDiv)\n",
       "        }\n",
       "\n",
       "        // only send notifications if the pageload is complete; this will\n",
       "        // help stop extra notifications when a saved notebook is loaded,\n",
       "        // which during testing gives us state \"interactive\", not \"complete\"\n",
       "        if (document.readyState === 'complete') {\n",
       "            // check for the div that signifies that the notification\n",
       "            // was already sent\n",
       "            if (document.getElementById(\"0e95777e-f859-4baf-85dd-456f5627cfb3\") === null) {\n",
       "                var notificationPayload = {\"requireInteraction\": false, \"icon\": \"/static/base/images/favicon.ico\", \"body\": \"Cell execution has finished!\"};\n",
       "                if (Notification.permission !== 'denied') {\n",
       "                    if (Notification.permission !== 'granted') { \n",
       "                        Notification.requestPermission(function (permission) {\n",
       "                            if(!('permission' in Notification)) {\n",
       "                                Notification.permission = permission\n",
       "                            }\n",
       "                        })\n",
       "                    }\n",
       "                    if (Notification.permission === 'granted') {\n",
       "                    var notification = new Notification(\"Jupyter Notebook\", notificationPayload)\n",
       "                    appendUniqueDiv()\n",
       "                    notification.onclick = function () {\n",
       "                        window.focus();\n",
       "                        this.close();\n",
       "                        };\n",
       "                    } \n",
       "                }     \n",
       "            }\n",
       "        }\n",
       "    }\n",
       ")\n"
      ],
      "text/plain": [
       "<IPython.core.display.Javascript object>"
      ]
     },
     "metadata": {},
     "output_type": "display_data"
    }
   ],
   "source": [
    "%%notify\n",
    "\n",
    "import time\n",
    "\n",
    "time.sleep(10)\n",
    "print(\"Program over\")"
   ]
  },
  {
   "cell_type": "markdown",
   "id": "9375c1cd-f29c-4c9c-a35c-53e5fa9bd55e",
   "metadata": {},
   "source": [
    "### 4. Change jupyter theme"
   ]
  },
  {
   "cell_type": "code",
   "execution_count": 16,
   "id": "e8debedb-8890-4e3f-8a34-0d4ff0b57a38",
   "metadata": {},
   "outputs": [
    {
     "name": "stdout",
     "output_type": "stream",
     "text": [
      "Collecting jupyterthemes\n",
      "  Downloading jupyterthemes-0.20.0-py2.py3-none-any.whl (7.0 MB)\n",
      "     ---------------------------------------- 0.0/7.0 MB ? eta -:--:--\n",
      "      --------------------------------------- 0.1/7.0 MB 3.2 MB/s eta 0:00:03\n",
      "     -- ------------------------------------- 0.5/7.0 MB 6.4 MB/s eta 0:00:02\n",
      "     ------- -------------------------------- 1.2/7.0 MB 9.8 MB/s eta 0:00:01\n",
      "     --------------- ------------------------ 2.7/7.0 MB 15.4 MB/s eta 0:00:01\n",
      "     ---------------------- ----------------- 4.0/7.0 MB 18.4 MB/s eta 0:00:01\n",
      "     ------------------------------- -------- 5.6/7.0 MB 20.8 MB/s eta 0:00:01\n",
      "     ---------------------------------------  7.0/7.0 MB 22.4 MB/s eta 0:00:01\n",
      "     ---------------------------------------- 7.0/7.0 MB 22.4 MB/s eta 0:00:00\n",
      "Requirement already satisfied: jupyter-core in c:\\users\\soyab\\appdata\\local\\programs\\python\\python311\\lib\\site-packages (from jupyterthemes) (5.4.0)\n",
      "Requirement already satisfied: notebook>=5.6.0 in c:\\users\\soyab\\appdata\\local\\programs\\python\\python311\\lib\\site-packages (from jupyterthemes) (7.0.5)\n",
      "Requirement already satisfied: ipython>=5.4.1 in c:\\users\\soyab\\appdata\\local\\programs\\python\\python311\\lib\\site-packages (from jupyterthemes) (8.16.1)\n",
      "Requirement already satisfied: matplotlib>=1.4.3 in c:\\users\\soyab\\appdata\\local\\programs\\python\\python311\\lib\\site-packages (from jupyterthemes) (3.8.0)\n",
      "Collecting lesscpy>=0.11.2 (from jupyterthemes)\n",
      "  Downloading lesscpy-0.15.1-py2.py3-none-any.whl (46 kB)\n",
      "     ---------------------------------------- 0.0/46.7 kB ? eta -:--:--\n",
      "     ---------------------------------------- 46.7/46.7 kB ? eta 0:00:00\n",
      "Requirement already satisfied: backcall in c:\\users\\soyab\\appdata\\local\\programs\\python\\python311\\lib\\site-packages (from ipython>=5.4.1->jupyterthemes) (0.2.0)\n",
      "Requirement already satisfied: decorator in c:\\users\\soyab\\appdata\\local\\programs\\python\\python311\\lib\\site-packages (from ipython>=5.4.1->jupyterthemes) (5.1.1)\n",
      "Requirement already satisfied: jedi>=0.16 in c:\\users\\soyab\\appdata\\local\\programs\\python\\python311\\lib\\site-packages (from ipython>=5.4.1->jupyterthemes) (0.19.1)\n",
      "Requirement already satisfied: matplotlib-inline in c:\\users\\soyab\\appdata\\local\\programs\\python\\python311\\lib\\site-packages (from ipython>=5.4.1->jupyterthemes) (0.1.6)\n",
      "Requirement already satisfied: pickleshare in c:\\users\\soyab\\appdata\\local\\programs\\python\\python311\\lib\\site-packages (from ipython>=5.4.1->jupyterthemes) (0.7.5)\n",
      "Requirement already satisfied: prompt-toolkit!=3.0.37,<3.1.0,>=3.0.30 in c:\\users\\soyab\\appdata\\local\\programs\\python\\python311\\lib\\site-packages (from ipython>=5.4.1->jupyterthemes) (3.0.39)\n",
      "Requirement already satisfied: pygments>=2.4.0 in c:\\users\\soyab\\appdata\\local\\programs\\python\\python311\\lib\\site-packages (from ipython>=5.4.1->jupyterthemes) (2.16.1)\n",
      "Requirement already satisfied: stack-data in c:\\users\\soyab\\appdata\\local\\programs\\python\\python311\\lib\\site-packages (from ipython>=5.4.1->jupyterthemes) (0.6.3)\n",
      "Requirement already satisfied: traitlets>=5 in c:\\users\\soyab\\appdata\\local\\programs\\python\\python311\\lib\\site-packages (from ipython>=5.4.1->jupyterthemes) (5.11.2)\n",
      "Requirement already satisfied: colorama in c:\\users\\soyab\\appdata\\local\\programs\\python\\python311\\lib\\site-packages (from ipython>=5.4.1->jupyterthemes) (0.4.6)\n",
      "Collecting ply (from lesscpy>=0.11.2->jupyterthemes)\n",
      "  Downloading ply-3.11-py2.py3-none-any.whl (49 kB)\n",
      "     ---------------------------------------- 0.0/49.6 kB ? eta -:--:--\n",
      "     ---------------------------------------- 49.6/49.6 kB 2.5 MB/s eta 0:00:00\n",
      "Requirement already satisfied: contourpy>=1.0.1 in c:\\users\\soyab\\appdata\\local\\programs\\python\\python311\\lib\\site-packages (from matplotlib>=1.4.3->jupyterthemes) (1.1.1)\n",
      "Requirement already satisfied: cycler>=0.10 in c:\\users\\soyab\\appdata\\local\\programs\\python\\python311\\lib\\site-packages (from matplotlib>=1.4.3->jupyterthemes) (0.12.1)\n",
      "Requirement already satisfied: fonttools>=4.22.0 in c:\\users\\soyab\\appdata\\local\\programs\\python\\python311\\lib\\site-packages (from matplotlib>=1.4.3->jupyterthemes) (4.43.1)\n",
      "Requirement already satisfied: kiwisolver>=1.0.1 in c:\\users\\soyab\\appdata\\local\\programs\\python\\python311\\lib\\site-packages (from matplotlib>=1.4.3->jupyterthemes) (1.4.5)\n",
      "Requirement already satisfied: numpy<2,>=1.21 in c:\\users\\soyab\\appdata\\local\\programs\\python\\python311\\lib\\site-packages (from matplotlib>=1.4.3->jupyterthemes) (1.24.3)\n",
      "Requirement already satisfied: packaging>=20.0 in c:\\users\\soyab\\appdata\\local\\programs\\python\\python311\\lib\\site-packages (from matplotlib>=1.4.3->jupyterthemes) (23.2)\n",
      "Requirement already satisfied: pillow>=6.2.0 in c:\\users\\soyab\\appdata\\local\\programs\\python\\python311\\lib\\site-packages (from matplotlib>=1.4.3->jupyterthemes) (10.0.1)\n",
      "Requirement already satisfied: pyparsing>=2.3.1 in c:\\users\\soyab\\appdata\\local\\programs\\python\\python311\\lib\\site-packages (from matplotlib>=1.4.3->jupyterthemes) (3.1.1)\n",
      "Requirement already satisfied: python-dateutil>=2.7 in c:\\users\\soyab\\appdata\\local\\programs\\python\\python311\\lib\\site-packages (from matplotlib>=1.4.3->jupyterthemes) (2.8.2)\n",
      "Requirement already satisfied: jupyter-server<3,>=2.4.0 in c:\\users\\soyab\\appdata\\local\\programs\\python\\python311\\lib\\site-packages (from notebook>=5.6.0->jupyterthemes) (2.7.3)\n",
      "Requirement already satisfied: jupyterlab-server<3,>=2.22.1 in c:\\users\\soyab\\appdata\\local\\programs\\python\\python311\\lib\\site-packages (from notebook>=5.6.0->jupyterthemes) (2.25.0)\n",
      "Requirement already satisfied: jupyterlab<5,>=4.0.2 in c:\\users\\soyab\\appdata\\local\\programs\\python\\python311\\lib\\site-packages (from notebook>=5.6.0->jupyterthemes) (4.0.7)\n",
      "Requirement already satisfied: notebook-shim<0.3,>=0.2 in c:\\users\\soyab\\appdata\\local\\programs\\python\\python311\\lib\\site-packages (from notebook>=5.6.0->jupyterthemes) (0.2.3)\n",
      "Requirement already satisfied: tornado>=6.2.0 in c:\\users\\soyab\\appdata\\local\\programs\\python\\python311\\lib\\site-packages (from notebook>=5.6.0->jupyterthemes) (6.3.3)\n",
      "Requirement already satisfied: platformdirs>=2.5 in c:\\users\\soyab\\appdata\\local\\programs\\python\\python311\\lib\\site-packages (from jupyter-core->jupyterthemes) (3.11.0)\n",
      "Requirement already satisfied: pywin32>=300 in c:\\users\\soyab\\appdata\\local\\programs\\python\\python311\\lib\\site-packages (from jupyter-core->jupyterthemes) (306)\n",
      "Requirement already satisfied: parso<0.9.0,>=0.8.3 in c:\\users\\soyab\\appdata\\local\\programs\\python\\python311\\lib\\site-packages (from jedi>=0.16->ipython>=5.4.1->jupyterthemes) (0.8.3)\n",
      "Requirement already satisfied: anyio>=3.1.0 in c:\\users\\soyab\\appdata\\local\\programs\\python\\python311\\lib\\site-packages (from jupyter-server<3,>=2.4.0->notebook>=5.6.0->jupyterthemes) (4.0.0)\n",
      "Requirement already satisfied: argon2-cffi in c:\\users\\soyab\\appdata\\local\\programs\\python\\python311\\lib\\site-packages (from jupyter-server<3,>=2.4.0->notebook>=5.6.0->jupyterthemes) (23.1.0)\n",
      "Requirement already satisfied: jinja2 in c:\\users\\soyab\\appdata\\local\\programs\\python\\python311\\lib\\site-packages (from jupyter-server<3,>=2.4.0->notebook>=5.6.0->jupyterthemes) (3.1.2)\n",
      "Requirement already satisfied: jupyter-client>=7.4.4 in c:\\users\\soyab\\appdata\\local\\programs\\python\\python311\\lib\\site-packages (from jupyter-server<3,>=2.4.0->notebook>=5.6.0->jupyterthemes) (8.4.0)\n",
      "Requirement already satisfied: jupyter-events>=0.6.0 in c:\\users\\soyab\\appdata\\local\\programs\\python\\python311\\lib\\site-packages (from jupyter-server<3,>=2.4.0->notebook>=5.6.0->jupyterthemes) (0.7.0)\n",
      "Requirement already satisfied: jupyter-server-terminals in c:\\users\\soyab\\appdata\\local\\programs\\python\\python311\\lib\\site-packages (from jupyter-server<3,>=2.4.0->notebook>=5.6.0->jupyterthemes) (0.4.4)\n",
      "Requirement already satisfied: nbconvert>=6.4.4 in c:\\users\\soyab\\appdata\\local\\programs\\python\\python311\\lib\\site-packages (from jupyter-server<3,>=2.4.0->notebook>=5.6.0->jupyterthemes) (7.9.2)\n",
      "Requirement already satisfied: nbformat>=5.3.0 in c:\\users\\soyab\\appdata\\local\\programs\\python\\python311\\lib\\site-packages (from jupyter-server<3,>=2.4.0->notebook>=5.6.0->jupyterthemes) (5.9.2)\n",
      "Requirement already satisfied: overrides in c:\\users\\soyab\\appdata\\local\\programs\\python\\python311\\lib\\site-packages (from jupyter-server<3,>=2.4.0->notebook>=5.6.0->jupyterthemes) (7.4.0)\n",
      "Requirement already satisfied: prometheus-client in c:\\users\\soyab\\appdata\\local\\programs\\python\\python311\\lib\\site-packages (from jupyter-server<3,>=2.4.0->notebook>=5.6.0->jupyterthemes) (0.17.1)\n",
      "Requirement already satisfied: pywinpty in c:\\users\\soyab\\appdata\\local\\programs\\python\\python311\\lib\\site-packages (from jupyter-server<3,>=2.4.0->notebook>=5.6.0->jupyterthemes) (2.0.12)\n",
      "Requirement already satisfied: pyzmq>=24 in c:\\users\\soyab\\appdata\\local\\programs\\python\\python311\\lib\\site-packages (from jupyter-server<3,>=2.4.0->notebook>=5.6.0->jupyterthemes) (25.1.1)\n",
      "Requirement already satisfied: send2trash>=1.8.2 in c:\\users\\soyab\\appdata\\local\\programs\\python\\python311\\lib\\site-packages (from jupyter-server<3,>=2.4.0->notebook>=5.6.0->jupyterthemes) (1.8.2)\n",
      "Requirement already satisfied: terminado>=0.8.3 in c:\\users\\soyab\\appdata\\local\\programs\\python\\python311\\lib\\site-packages (from jupyter-server<3,>=2.4.0->notebook>=5.6.0->jupyterthemes) (0.17.1)\n",
      "Requirement already satisfied: websocket-client in c:\\users\\soyab\\appdata\\local\\programs\\python\\python311\\lib\\site-packages (from jupyter-server<3,>=2.4.0->notebook>=5.6.0->jupyterthemes) (1.6.4)\n",
      "Requirement already satisfied: async-lru>=1.0.0 in c:\\users\\soyab\\appdata\\local\\programs\\python\\python311\\lib\\site-packages (from jupyterlab<5,>=4.0.2->notebook>=5.6.0->jupyterthemes) (2.0.4)\n",
      "Requirement already satisfied: ipykernel in c:\\users\\soyab\\appdata\\local\\programs\\python\\python311\\lib\\site-packages (from jupyterlab<5,>=4.0.2->notebook>=5.6.0->jupyterthemes) (6.25.2)\n",
      "Requirement already satisfied: jupyter-lsp>=2.0.0 in c:\\users\\soyab\\appdata\\local\\programs\\python\\python311\\lib\\site-packages (from jupyterlab<5,>=4.0.2->notebook>=5.6.0->jupyterthemes) (2.2.0)\n",
      "Requirement already satisfied: babel>=2.10 in c:\\users\\soyab\\appdata\\local\\programs\\python\\python311\\lib\\site-packages (from jupyterlab-server<3,>=2.22.1->notebook>=5.6.0->jupyterthemes) (2.13.0)\n",
      "Requirement already satisfied: json5>=0.9.0 in c:\\users\\soyab\\appdata\\local\\programs\\python\\python311\\lib\\site-packages (from jupyterlab-server<3,>=2.22.1->notebook>=5.6.0->jupyterthemes) (0.9.14)\n",
      "Requirement already satisfied: jsonschema>=4.18.0 in c:\\users\\soyab\\appdata\\local\\programs\\python\\python311\\lib\\site-packages (from jupyterlab-server<3,>=2.22.1->notebook>=5.6.0->jupyterthemes) (4.19.1)\n",
      "Requirement already satisfied: requests>=2.31 in c:\\users\\soyab\\appdata\\local\\programs\\python\\python311\\lib\\site-packages (from jupyterlab-server<3,>=2.22.1->notebook>=5.6.0->jupyterthemes) (2.31.0)\n",
      "Requirement already satisfied: wcwidth in c:\\users\\soyab\\appdata\\local\\programs\\python\\python311\\lib\\site-packages (from prompt-toolkit!=3.0.37,<3.1.0,>=3.0.30->ipython>=5.4.1->jupyterthemes) (0.2.8)\n",
      "Requirement already satisfied: six>=1.5 in c:\\users\\soyab\\appdata\\local\\programs\\python\\python311\\lib\\site-packages (from python-dateutil>=2.7->matplotlib>=1.4.3->jupyterthemes) (1.16.0)\n",
      "Requirement already satisfied: executing>=1.2.0 in c:\\users\\soyab\\appdata\\local\\programs\\python\\python311\\lib\\site-packages (from stack-data->ipython>=5.4.1->jupyterthemes) (2.0.0)\n",
      "Requirement already satisfied: asttokens>=2.1.0 in c:\\users\\soyab\\appdata\\local\\programs\\python\\python311\\lib\\site-packages (from stack-data->ipython>=5.4.1->jupyterthemes) (2.4.0)\n",
      "Requirement already satisfied: pure-eval in c:\\users\\soyab\\appdata\\local\\programs\\python\\python311\\lib\\site-packages (from stack-data->ipython>=5.4.1->jupyterthemes) (0.2.2)\n",
      "Requirement already satisfied: idna>=2.8 in c:\\users\\soyab\\appdata\\local\\programs\\python\\python311\\lib\\site-packages (from anyio>=3.1.0->jupyter-server<3,>=2.4.0->notebook>=5.6.0->jupyterthemes) (3.4)\n",
      "Requirement already satisfied: sniffio>=1.1 in c:\\users\\soyab\\appdata\\local\\programs\\python\\python311\\lib\\site-packages (from anyio>=3.1.0->jupyter-server<3,>=2.4.0->notebook>=5.6.0->jupyterthemes) (1.3.0)\n",
      "Requirement already satisfied: MarkupSafe>=2.0 in c:\\users\\soyab\\appdata\\local\\programs\\python\\python311\\lib\\site-packages (from jinja2->jupyter-server<3,>=2.4.0->notebook>=5.6.0->jupyterthemes) (2.1.3)\n",
      "Requirement already satisfied: attrs>=22.2.0 in c:\\users\\soyab\\appdata\\local\\programs\\python\\python311\\lib\\site-packages (from jsonschema>=4.18.0->jupyterlab-server<3,>=2.22.1->notebook>=5.6.0->jupyterthemes) (23.1.0)\n",
      "Requirement already satisfied: jsonschema-specifications>=2023.03.6 in c:\\users\\soyab\\appdata\\local\\programs\\python\\python311\\lib\\site-packages (from jsonschema>=4.18.0->jupyterlab-server<3,>=2.22.1->notebook>=5.6.0->jupyterthemes) (2023.7.1)\n",
      "Requirement already satisfied: referencing>=0.28.4 in c:\\users\\soyab\\appdata\\local\\programs\\python\\python311\\lib\\site-packages (from jsonschema>=4.18.0->jupyterlab-server<3,>=2.22.1->notebook>=5.6.0->jupyterthemes) (0.30.2)\n",
      "Requirement already satisfied: rpds-py>=0.7.1 in c:\\users\\soyab\\appdata\\local\\programs\\python\\python311\\lib\\site-packages (from jsonschema>=4.18.0->jupyterlab-server<3,>=2.22.1->notebook>=5.6.0->jupyterthemes) (0.10.6)\n",
      "Requirement already satisfied: python-json-logger>=2.0.4 in c:\\users\\soyab\\appdata\\local\\programs\\python\\python311\\lib\\site-packages (from jupyter-events>=0.6.0->jupyter-server<3,>=2.4.0->notebook>=5.6.0->jupyterthemes) (2.0.7)\n",
      "Requirement already satisfied: pyyaml>=5.3 in c:\\users\\soyab\\appdata\\local\\programs\\python\\python311\\lib\\site-packages (from jupyter-events>=0.6.0->jupyter-server<3,>=2.4.0->notebook>=5.6.0->jupyterthemes) (6.0.1)\n",
      "Requirement already satisfied: rfc3339-validator in c:\\users\\soyab\\appdata\\local\\programs\\python\\python311\\lib\\site-packages (from jupyter-events>=0.6.0->jupyter-server<3,>=2.4.0->notebook>=5.6.0->jupyterthemes) (0.1.4)\n",
      "Requirement already satisfied: rfc3986-validator>=0.1.1 in c:\\users\\soyab\\appdata\\local\\programs\\python\\python311\\lib\\site-packages (from jupyter-events>=0.6.0->jupyter-server<3,>=2.4.0->notebook>=5.6.0->jupyterthemes) (0.1.1)\n",
      "Requirement already satisfied: beautifulsoup4 in c:\\users\\soyab\\appdata\\local\\programs\\python\\python311\\lib\\site-packages (from nbconvert>=6.4.4->jupyter-server<3,>=2.4.0->notebook>=5.6.0->jupyterthemes) (4.12.2)\n",
      "Requirement already satisfied: bleach!=5.0.0 in c:\\users\\soyab\\appdata\\local\\programs\\python\\python311\\lib\\site-packages (from nbconvert>=6.4.4->jupyter-server<3,>=2.4.0->notebook>=5.6.0->jupyterthemes) (6.1.0)\n",
      "Requirement already satisfied: defusedxml in c:\\users\\soyab\\appdata\\local\\programs\\python\\python311\\lib\\site-packages (from nbconvert>=6.4.4->jupyter-server<3,>=2.4.0->notebook>=5.6.0->jupyterthemes) (0.7.1)\n",
      "Requirement already satisfied: jupyterlab-pygments in c:\\users\\soyab\\appdata\\local\\programs\\python\\python311\\lib\\site-packages (from nbconvert>=6.4.4->jupyter-server<3,>=2.4.0->notebook>=5.6.0->jupyterthemes) (0.2.2)\n",
      "Requirement already satisfied: mistune<4,>=2.0.3 in c:\\users\\soyab\\appdata\\local\\programs\\python\\python311\\lib\\site-packages (from nbconvert>=6.4.4->jupyter-server<3,>=2.4.0->notebook>=5.6.0->jupyterthemes) (3.0.2)\n",
      "Requirement already satisfied: nbclient>=0.5.0 in c:\\users\\soyab\\appdata\\local\\programs\\python\\python311\\lib\\site-packages (from nbconvert>=6.4.4->jupyter-server<3,>=2.4.0->notebook>=5.6.0->jupyterthemes) (0.8.0)\n",
      "Requirement already satisfied: pandocfilters>=1.4.1 in c:\\users\\soyab\\appdata\\local\\programs\\python\\python311\\lib\\site-packages (from nbconvert>=6.4.4->jupyter-server<3,>=2.4.0->notebook>=5.6.0->jupyterthemes) (1.5.0)\n",
      "Requirement already satisfied: tinycss2 in c:\\users\\soyab\\appdata\\local\\programs\\python\\python311\\lib\\site-packages (from nbconvert>=6.4.4->jupyter-server<3,>=2.4.0->notebook>=5.6.0->jupyterthemes) (1.2.1)\n",
      "Requirement already satisfied: fastjsonschema in c:\\users\\soyab\\appdata\\local\\programs\\python\\python311\\lib\\site-packages (from nbformat>=5.3.0->jupyter-server<3,>=2.4.0->notebook>=5.6.0->jupyterthemes) (2.18.1)\n",
      "Requirement already satisfied: charset-normalizer<4,>=2 in c:\\users\\soyab\\appdata\\local\\programs\\python\\python311\\lib\\site-packages (from requests>=2.31->jupyterlab-server<3,>=2.22.1->notebook>=5.6.0->jupyterthemes) (3.1.0)\n",
      "Requirement already satisfied: urllib3<3,>=1.21.1 in c:\\users\\soyab\\appdata\\local\\programs\\python\\python311\\lib\\site-packages (from requests>=2.31->jupyterlab-server<3,>=2.22.1->notebook>=5.6.0->jupyterthemes) (2.0.3)\n",
      "Requirement already satisfied: certifi>=2017.4.17 in c:\\users\\soyab\\appdata\\local\\programs\\python\\python311\\lib\\site-packages (from requests>=2.31->jupyterlab-server<3,>=2.22.1->notebook>=5.6.0->jupyterthemes) (2023.5.7)\n",
      "Requirement already satisfied: argon2-cffi-bindings in c:\\users\\soyab\\appdata\\local\\programs\\python\\python311\\lib\\site-packages (from argon2-cffi->jupyter-server<3,>=2.4.0->notebook>=5.6.0->jupyterthemes) (21.2.0)\n",
      "Requirement already satisfied: comm>=0.1.1 in c:\\users\\soyab\\appdata\\local\\programs\\python\\python311\\lib\\site-packages (from ipykernel->jupyterlab<5,>=4.0.2->notebook>=5.6.0->jupyterthemes) (0.1.4)\n",
      "Requirement already satisfied: debugpy>=1.6.5 in c:\\users\\soyab\\appdata\\local\\programs\\python\\python311\\lib\\site-packages (from ipykernel->jupyterlab<5,>=4.0.2->notebook>=5.6.0->jupyterthemes) (1.8.0)\n",
      "Requirement already satisfied: nest-asyncio in c:\\users\\soyab\\appdata\\local\\programs\\python\\python311\\lib\\site-packages (from ipykernel->jupyterlab<5,>=4.0.2->notebook>=5.6.0->jupyterthemes) (1.5.8)\n",
      "Requirement already satisfied: psutil in c:\\users\\soyab\\appdata\\local\\programs\\python\\python311\\lib\\site-packages (from ipykernel->jupyterlab<5,>=4.0.2->notebook>=5.6.0->jupyterthemes) (5.9.5)\n",
      "Requirement already satisfied: webencodings in c:\\users\\soyab\\appdata\\local\\programs\\python\\python311\\lib\\site-packages (from bleach!=5.0.0->nbconvert>=6.4.4->jupyter-server<3,>=2.4.0->notebook>=5.6.0->jupyterthemes) (0.5.1)\n",
      "Requirement already satisfied: fqdn in c:\\users\\soyab\\appdata\\local\\programs\\python\\python311\\lib\\site-packages (from jsonschema[format-nongpl]>=4.18.0->jupyter-events>=0.6.0->jupyter-server<3,>=2.4.0->notebook>=5.6.0->jupyterthemes) (1.5.1)\n",
      "Requirement already satisfied: isoduration in c:\\users\\soyab\\appdata\\local\\programs\\python\\python311\\lib\\site-packages (from jsonschema[format-nongpl]>=4.18.0->jupyter-events>=0.6.0->jupyter-server<3,>=2.4.0->notebook>=5.6.0->jupyterthemes) (20.11.0)\n",
      "Requirement already satisfied: jsonpointer>1.13 in c:\\users\\soyab\\appdata\\local\\programs\\python\\python311\\lib\\site-packages (from jsonschema[format-nongpl]>=4.18.0->jupyter-events>=0.6.0->jupyter-server<3,>=2.4.0->notebook>=5.6.0->jupyterthemes) (2.4)\n",
      "Requirement already satisfied: uri-template in c:\\users\\soyab\\appdata\\local\\programs\\python\\python311\\lib\\site-packages (from jsonschema[format-nongpl]>=4.18.0->jupyter-events>=0.6.0->jupyter-server<3,>=2.4.0->notebook>=5.6.0->jupyterthemes) (1.3.0)\n",
      "Requirement already satisfied: webcolors>=1.11 in c:\\users\\soyab\\appdata\\local\\programs\\python\\python311\\lib\\site-packages (from jsonschema[format-nongpl]>=4.18.0->jupyter-events>=0.6.0->jupyter-server<3,>=2.4.0->notebook>=5.6.0->jupyterthemes) (1.13)\n",
      "Requirement already satisfied: cffi>=1.0.1 in c:\\users\\soyab\\appdata\\local\\programs\\python\\python311\\lib\\site-packages (from argon2-cffi-bindings->argon2-cffi->jupyter-server<3,>=2.4.0->notebook>=5.6.0->jupyterthemes) (1.15.1)\n",
      "Requirement already satisfied: soupsieve>1.2 in c:\\users\\soyab\\appdata\\local\\programs\\python\\python311\\lib\\site-packages (from beautifulsoup4->nbconvert>=6.4.4->jupyter-server<3,>=2.4.0->notebook>=5.6.0->jupyterthemes) (2.4.1)\n",
      "Requirement already satisfied: pycparser in c:\\users\\soyab\\appdata\\local\\programs\\python\\python311\\lib\\site-packages (from cffi>=1.0.1->argon2-cffi-bindings->argon2-cffi->jupyter-server<3,>=2.4.0->notebook>=5.6.0->jupyterthemes) (2.21)\n",
      "Requirement already satisfied: arrow>=0.15.0 in c:\\users\\soyab\\appdata\\local\\programs\\python\\python311\\lib\\site-packages (from isoduration->jsonschema[format-nongpl]>=4.18.0->jupyter-events>=0.6.0->jupyter-server<3,>=2.4.0->notebook>=5.6.0->jupyterthemes) (1.3.0)\n",
      "Requirement already satisfied: types-python-dateutil>=2.8.10 in c:\\users\\soyab\\appdata\\local\\programs\\python\\python311\\lib\\site-packages (from arrow>=0.15.0->isoduration->jsonschema[format-nongpl]>=4.18.0->jupyter-events>=0.6.0->jupyter-server<3,>=2.4.0->notebook>=5.6.0->jupyterthemes) (2.8.19.14)\n",
      "Installing collected packages: ply, lesscpy, jupyterthemes\n",
      "Successfully installed jupyterthemes-0.20.0 lesscpy-0.15.1 ply-3.11\n"
     ]
    },
    {
     "name": "stderr",
     "output_type": "stream",
     "text": [
      "\n",
      "[notice] A new release of pip is available: 23.3 -> 23.3.2\n",
      "[notice] To update, run: python.exe -m pip install --upgrade pip\n"
     ]
    }
   ],
   "source": [
    "!pip install jupyterthemes\r\n",
    "\r\n"
   ]
  },
  {
   "cell_type": "code",
   "execution_count": 24,
   "id": "9a47ea26-fe3c-4b49-8273-aa0e0c765edf",
   "metadata": {},
   "outputs": [
    {
     "name": "stdout",
     "output_type": "stream",
     "text": [
      "Available Themes: \n",
      "   chesterish\n",
      "   grade3\n",
      "   gruvboxd\n",
      "   gruvboxl\n",
      "   monokai\n",
      "   oceans16\n",
      "   onedork\n",
      "   solarizedd\n",
      "   solarizedl\n"
     ]
    }
   ],
   "source": [
    "# See all available themes\n",
    "!jt -l"
   ]
  },
  {
   "cell_type": "code",
   "execution_count": 25,
   "id": "d5e93260-1350-4f93-9294-4599223d9689",
   "metadata": {},
   "outputs": [],
   "source": [
    "# Change theme\n",
    "!jt -t monokai"
   ]
  },
  {
   "cell_type": "code",
   "execution_count": 26,
   "id": "da2a5875-b769-4dab-8d3d-59f118cdaeb8",
   "metadata": {},
   "outputs": [
    {
     "name": "stdout",
     "output_type": "stream",
     "text": [
      "Reset css and font defaults in:\n",
      "C:\\Users\\Soyab\\.jupyter\\custom &\n",
      "C:\\Users\\Soyab\\AppData\\Roaming\\jupyter\\nbextensions\n"
     ]
    }
   ],
   "source": [
    "# Restore to default\n",
    "!jt -r"
   ]
  }
 ],
 "metadata": {
  "kernelspec": {
   "display_name": "Python 3 (ipykernel)",
   "language": "python",
   "name": "python3"
  },
  "language_info": {
   "codemirror_mode": {
    "name": "ipython",
    "version": 3
   },
   "file_extension": ".py",
   "mimetype": "text/x-python",
   "name": "python",
   "nbconvert_exporter": "python",
   "pygments_lexer": "ipython3",
   "version": "3.11.3"
  }
 },
 "nbformat": 4,
 "nbformat_minor": 5
}
